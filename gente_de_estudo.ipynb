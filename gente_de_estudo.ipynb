{
  "nbformat": 4,
  "nbformat_minor": 0,
  "metadata": {
    "colab": {
      "provenance": [],
      "authorship_tag": "ABX9TyMIz6ElxNu4IUGtGQG2HP/1",
      "include_colab_link": true
    },
    "kernelspec": {
      "name": "python3",
      "display_name": "Python 3"
    },
    "language_info": {
      "name": "python"
    }
  },
  "cells": [
    {
      "cell_type": "markdown",
      "metadata": {
        "id": "view-in-github",
        "colab_type": "text"
      },
      "source": [
        "<a href=\"https://colab.research.google.com/github/Kaique-William/AgenteIA/blob/main/gente_de_estudo.ipynb\" target=\"_parent\"><img src=\"https://colab.research.google.com/assets/colab-badge.svg\" alt=\"Open In Colab\"/></a>"
      ]
    },
    {
      "cell_type": "code",
      "execution_count": null,
      "metadata": {
        "id": "jx_OgninR5wZ"
      },
      "outputs": [],
      "source": [
        "%pip -q install google-genai\n",
        "\n",
        "!pip install -q google-adk\n",
        "\n",
        "import os\n",
        "from google.colab import userdata\n",
        "\n",
        "os.environ[\"GOOGLE_API_KEY\"] = userdata.get('GOOGLE_API_KEY')\n",
        "\n",
        "from google import genai\n",
        "\n",
        "client = genai.Client()\n",
        "\n",
        "from IPython.display import HTML, Markdown\n",
        "\n",
        "from google.adk.agents import Agent\n",
        "from google.adk.runners import Runner\n",
        "from google.adk.sessions import InMemorySessionService\n",
        "from google.adk.tools import google_search\n",
        "from google.genai import types  # Para criar conteúdos (Content e Part)\n",
        "from datetime import date\n",
        "import textwrap # Para formatar melhor a saída de texto\n",
        "from IPython.display import display, Markdown # Para exibir texto formatado no Colab\n",
        "import requests # Para fazer requisições HTTP\n",
        "import warnings\n",
        "\n",
        "warnings.filterwarnings(\"ignore\")"
      ]
    },
    {
      "cell_type": "code",
      "source": [
        "# Função auxiliar que envia uma mensagem para um agente via Runner e retorna a resposta final\n",
        "def call_agent(agent: Agent, message_text: str) -> str:\n",
        "    # Cria um serviço de sessão em memória\n",
        "    session_service = InMemorySessionService()\n",
        "    # Cria uma nova sessão (você pode personalizar os IDs conforme necessário)\n",
        "    session = session_service.create_session(app_name=agent.name, user_id=\"user1\", session_id=\"session1\")\n",
        "    # Cria um Runner para o agente\n",
        "    runner = Runner(agent=agent, app_name=agent.name, session_service=session_service)\n",
        "    # Cria o conteúdo da mensagem de entrada\n",
        "    content = types.Content(role=\"user\", parts=[types.Part(text=message_text)])\n",
        "\n",
        "    final_response = \"\"\n",
        "    # Itera assincronamente pelos eventos retornados durante a execução do agente\n",
        "    for event in runner.run(user_id=\"user1\", session_id=\"session1\", new_message=content):\n",
        "        if event.is_final_response():\n",
        "          for part in event.content.parts:\n",
        "            if part.text is not None:\n",
        "              final_response += part.text\n",
        "              final_response += \"\\n\"\n",
        "    return final_response\n",
        "\n",
        "    # Função auxiliar para exibir texto formatado em Markdown no Colab\n",
        "def to_markdown(text):\n",
        "  text = text.replace('•', '  *')\n",
        "  return Markdown(textwrap.indent(text, '> ', predicate=lambda _: True))"
      ],
      "metadata": {
        "id": "iSjc3juPU8ZA"
      },
      "execution_count": null,
      "outputs": []
    },
    {
      "cell_type": "code",
      "source": [
        "##########################################\n",
        "# --- Agente 1: Pega o assunto --- #\n",
        "##########################################\n",
        "\n",
        "def agente_de_busca(topico, pontos, data_de_hoje):\n",
        "    buscador = Agent(\n",
        "        name=\"agente_de_busca\",\n",
        "        model=\"gemini-2.0-flash\",\n",
        "        description=\"Recolhe e inicia a busca de informações\",\n",
        "        tools=[google_search],\n",
        "        instruction=\"\"\"\n",
        "        Você é um assistente de pesquisa. sua função é pegar as informações passadas e e buscar o que for mais importantes sobre o assunto\n",
        "        utilizando o Google (google_search). busque as informações mais recentes e relevantes ao assunto, tendo foco principal em informações\n",
        "        vindas de sites oficiais. um limite de até 3 topicos importantes, com base nas relevancias com o assunto, datas recentes e importancia para\n",
        "        a situação. com base nos pontos passados procure definir o nivel de conchecimento que a pessoa tem do assunto, se aparentar ser alto procure ser mais\n",
        "        aprofundado com as informaçoes buscadas. Se caso se mostar mais leiga, busque informações introdutorias para dar uma base.\n",
        "        \"\"\"\n",
        "        )\n",
        "\n",
        "    entrada_do_agente_de_busca = f\"Tópico: {topico}\\nPontos Relevantes: {pontos}\\nData de hoje: {data_de_hoje}\"\n",
        "\n",
        "    lancamentos_buscados = call_agent(buscador, entrada_do_agente_de_busca)\n",
        "    return lancamentos_buscados"
      ],
      "metadata": {
        "id": "4qAIiTAmVcbU"
      },
      "execution_count": null,
      "outputs": []
    },
    {
      "cell_type": "code",
      "source": [
        "################################################\n",
        "# --- Agente 2: questionador1 --- #\n",
        "################################################\n",
        "\n",
        "def agente_questionador1(topico, pontos, lancamentos_buscados):\n",
        "    questionador1 = Agent(\n",
        "        name=\"agente_questionador1\",\n",
        "        model=\"gemini-2.5-flash-preview-04-17\",\n",
        "        instruction=\"\"\"\n",
        "        Você é um especialista no assunto, e busca trazer as informações mais impostantes e atuais. tendo em base os topicos trazidos, veja quais os mais\n",
        "        importantes e os mais atuais em relação com os pontos relevantes. para isso você deve usar o google (google_search) para tem mais profundidade com o assundo,\n",
        "        que ira abosrdar.\n",
        "        Você trabalhara junto do questionador2 para decidir quais serão os topicos a serem passados, havendo consenço, enviar \"CONSENÇO\" e abaixo sua resposta\n",
        "        \"\"\",\n",
        "        description=\"Agente que planeja posts\",\n",
        "        tools=[google_search]\n",
        "    )\n",
        "\n",
        "    entrada_do_agente_questionador1 = f\"Tópico:{topico}\\nPntos Relevantes{pontos}\\nLançamentos buscados: {lancamentos_buscados}\"\n",
        "    # Executa o agente\n",
        "    pensamento1 = call_agent(questionador1, entrada_do_agente_questionador1)\n",
        "    return pensamento1"
      ],
      "metadata": {
        "id": "1ilZ65ctfAZ6"
      },
      "execution_count": null,
      "outputs": []
    },
    {
      "cell_type": "code",
      "source": [
        "################################################\n",
        "# --- Agente 3: questionador2 --- #\n",
        "################################################\n",
        "\n",
        "def agente_questionador2(topico, pontos, lancamentos_buscados):\n",
        "    questionador2 = Agent(\n",
        "        name=\"agente_questionador2\",\n",
        "        model=\"gemini-2.5-flash-preview-04-17\",\n",
        "        instruction=\"\"\"\n",
        "        Você é um especialista no assunto, e busca trazer as informações mais dinamicas e expesificas. tendo em base os topicos trazidos, veja quais os mais\n",
        "        importantes e os mais importantes em relação com os pontos relevantes. para isso você deve usar o google (google_search) para tem mais profundidade com o assundo,\n",
        "        que ira abosrdar.\n",
        "        Você trabalhara junto do questionador1 para decidir quais serão os topicos a serem passados, havendo consenço, enviar \"CONSENÇO\" e abaixo sua resposta\n",
        "        \"\"\",\n",
        "        description=\"Agente que planeja posts\",\n",
        "        tools=[google_search]\n",
        "    )\n",
        "\n",
        "    entrada_do_agente_questionador2 = f\"Tópico:{topico}\\nPontos Relevantes{pontos}\\nLançamentos buscados: {lancamentos_buscados}\"\n",
        "    # Executa o agente\n",
        "    pensamento2 = call_agent(questionador2, entrada_do_agente_questionador2)\n",
        "    return pensamento2"
      ],
      "metadata": {
        "id": "7FF5jXDlngsM"
      },
      "execution_count": null,
      "outputs": []
    },
    {
      "cell_type": "code",
      "source": [
        "######################################\n",
        "# --- Agente 4: revisor --- #\n",
        "######################################\n",
        "def agente_revisor(topico, pontos, pensamento1, pensamento2):\n",
        "    revisor = Agent(\n",
        "        name=\"agente_revisor\",\n",
        "        model=\"gemini-2.5-flash-preview-04-17\",\n",
        "        instruction=\"\"\"\n",
        "              Você é um revisor criativo e empático. Sua missão é transformar dois raciocínios em um conteúdo claro, instigante e alinhado ao nível de conhecimento da pessoa.\n",
        "\n",
        "              Você deve:\n",
        "              - Identificar os pontos centrais e complementares de cada raciocínio.\n",
        "              - Produzir um texto de apoio ou roteiro que conecte esses temas com fluidez.\n",
        "              - Incluir ideias paralelas, conexões relevantes e sugestões de caminhos para quem quer aprender mais sobre o tema.\n",
        "              - Evite parecer técnico ou robótico: escreva como alguém que realmente se importa em tornar o assunto interessante para quem vai ler.\n",
        "        \"\"\",\n",
        "\n",
        "        description=\"Agente revisor\"\n",
        "    )\n",
        "    entrada_do_agente_revisor = f\"Tópico: {topico}\\nPontos relevantes: {pontos}\\nScripts: {pensamento1, pensamento2 }\"\n",
        "    # Executa o agente\n",
        "    rascunho = call_agent(revisor, entrada_do_agente_revisor)\n",
        "    return rascunho"
      ],
      "metadata": {
        "id": "vNFPJ2UmoQt3"
      },
      "execution_count": null,
      "outputs": []
    },
    {
      "cell_type": "code",
      "source": [
        "##########################################\n",
        "# --- Agente 5: instrutor --- #\n",
        "##########################################\n",
        "def agente_instrutor(topico, pontos, rascunho):\n",
        "    instrutor = Agent(\n",
        "        name=\"agente_instrutor\",\n",
        "        model=\"gemini-2.0-flash\",\n",
        "        instruction=\"\"\"\n",
        "            Você é um instrutor cativante e didático. Sua missão é ensinar com leveza, empatia e flexibilidade, adaptando o conteúdo à idade,\n",
        "            contexto e nível de conhecimento de quem aprende.\n",
        "\n",
        "            O que você deve fazer:\n",
        "            - Use um tom amigável e acessível, como se estivesse explicando para um colega ou aluno interessado.\n",
        "            - Adapte a linguagem: use metáforas, comparações, analogias e exemplos reais conforme o perfil da pessoa.\n",
        "            - Crie seções curtas e envolventes, que ajudem a absorver o conteúdo em partes.\n",
        "            - Faça perguntas, sugira ideias extras e incentive a curiosidade.\n",
        "            - Evite frases genéricas de \"feedback automático\". O objetivo é guiar, não avaliar.\n",
        "\n",
        "            Ex: \"Você já ouviu falar em X? Vamos ver como isso se conecta com o que estamos estudando…\"\n",
        "        \"\"\",\n",
        "        description=\"Agente instrutor\",\n",
        "\n",
        "    )\n",
        "    entrada_do_agente_instrutor = f\"Tópico: {topico}\\nPontos importantes: {pontos}\\nRascunho: {rascunho}\"\n",
        "    # Executa o agente\n",
        "    instrucao = call_agent(instrutor, entrada_do_agente_instrutor)\n",
        "    return instrucao"
      ],
      "metadata": {
        "id": "XGHuWjcUsUAd"
      },
      "execution_count": null,
      "outputs": []
    },
    {
      "cell_type": "code",
      "source": [
        "data_de_hoje = date.today().strftime(\"%d/%m/%Y\")\n",
        "\n",
        "print(\"🚀 Iniciando o Sistema de estudo de assuntos 🚀\")\n",
        "\n",
        "# --- Obter o Tópico do Usuário ---\n",
        "topico = input(\"❓ Por favor, digite sobre o que entender e/ou estudar: \")\n",
        "pontos = input(\"📝 Por favor, digite os PONTOS RELEVANTES sobre o qual você quer entender e/ou estudar: \")\n",
        "\n",
        "# Inserir lógica do sistema de agentes ################################################\n",
        "\n",
        "if not topico:\n",
        "    print(\"❗ Não se esqueça de informar o tópico!\")\n",
        "else:\n",
        "    print(f\"OK, verei o que há de mais importante sobre '{topico}' e o que posso fazer para ajudar.\")\n",
        "\n",
        "    busca = agente_de_busca(topico, pontos, data_de_hoje)\n",
        "\n",
        "    # Primeira rodada: cada agente gera resposta inicial\n",
        "    questao1 = agente_questionador1(topico, pontos, busca)\n",
        "    questao2 = agente_questionador2(topico, pontos, questao1)\n",
        "\n",
        "    # Loop até ambos enviarem \"CONSENÇO\"\n",
        "    while \"CONSENÇO\" not in questao1 or \"CONSENÇO\" not in questao2:\n",
        "        print(\"\\n⚠️ Alinhando pontos...\\n\")\n",
        "\n",
        "        questao1 = agente_questionador1(topico, pontos, questao2)\n",
        "        questao2 = agente_questionador2(topico, pontos, questao1)\n",
        "\n",
        "    print(\"\\n✅ CONSENÇO alcançado. Revisando.\")\n",
        "\n",
        "    texto_revisado = agente_revisor(topico, pontos, questao1, questao2)\n",
        "\n",
        "    instrucao = agente_instrutor(topico, pontos, texto_revisado)\n",
        "    display(to_markdown(instrucao))\n",
        "\n"
      ],
      "metadata": {
        "colab": {
          "base_uri": "https://localhost:8080/",
          "height": 875
        },
        "id": "I8ClFhdIueM3",
        "outputId": "fbd717d8-3a67-4899-82f8-9a3326400c7e"
      },
      "execution_count": null,
      "outputs": [
        {
          "output_type": "stream",
          "name": "stdout",
          "text": [
            "🚀 Iniciando o Sistema de estudo de assuntos 🚀\n",
            "❓ Por favor, digite sobre o que entender e/ou estudar: segunda guerra mundial\n",
            "📝 Por favor, digite os PONTOS RELEVANTES sobre o qual você quer entender e/ou estudar: como começou e com teve seu fim?\n",
            "OK, verei o que há de mais importante sobre 'segunda guerra mundial' e o que posso fazer para ajudar.\n",
            "\n",
            "✅ CONSENÇO alcançado. Revisando.\n",
            "\n",
            "--- Instruções geradas ---\n",
            "\n"
          ]
        },
        {
          "output_type": "display_data",
          "data": {
            "text/plain": [
              "<IPython.core.display.Markdown object>"
            ],
            "text/markdown": "> Olá! Que bom que você se interessou por esse tema tão importante e impactante! A Segunda Guerra Mundial é um evento complexo, mas vamos explorá-lo juntos de forma clara e interessante.\n> \n> Seu rascunho está ótimo! Ele cobre os pontos principais de forma bem organizada e acessível. Para deixar ainda melhor, podemos adicionar alguns detalhes e nuances que podem enriquecer a compreensão do tema.\n> \n> **1. Aprofundando as causas:**\n> \n> Você mencionou o Tratado de Versalhes e a crise econômica como fatores que contribuíram para o surgimento de líderes autoritários. Podemos adicionar mais alguns elementos:\n> \n> *   **Nacionalismo exacerbado:** Após a Primeira Guerra, muitos países cultivaram um forte sentimento de nacionalismo, o que levou a tensões e rivalidades.\n> *   **Fracasso da Liga das Nações:** A Liga das Nações, criada para evitar novas guerras, mostrou-se ineficaz diante das ambições expansionistas de alguns países.\n> *   **Política de apaziguamento:** A política de apaziguamento adotada por Reino Unido e França, que consistia em ceder às exigências de Hitler na esperança de evitar a guerra, acabou encorajando suas ambições.\n> \n> **2. Detalhando o curso da guerra:**\n> \n> Você mencionou a Blitzkrieg e a invasão da Polônia. Podemos adicionar alguns pontos importantes:\n> \n> *   **A Batalha da Inglaterra:** A resistência britânica aos ataques aéreos alemães foi crucial para impedir a invasão da Grã-Bretanha.\n> *   **A Operação Barbarossa:** A invasão da União Soviética pela Alemanha em 1941 abriu uma nova frente de batalha e mudou o curso da guerra.\n> *   **O ataque a Pearl Harbor:** O ataque japonês à base naval americana em Pearl Harbor, em 1941, levou os Estados Unidos a entrarem na guerra.\n> \n> **3. Refinando o fim da guerra:**\n> \n> Você descreveu bem os eventos que levaram à rendição da Alemanha e do Japão. Podemos adicionar algumas informações:\n> \n> *   **A Conferência de Yalta:** Nessa conferência, os líderes dos Aliados (Churchill, Roosevelt e Stalin) se reuniram para discutir o futuro da Europa após a guerra.\n> *   **O impacto das bombas atômicas:** A decisão de usar as bombas atômicas é controversa até hoje. Alguns argumentam que foi necessária para evitar uma invasão terrestre do Japão, enquanto outros a consideram um crime de guerra.\n> \n> **4. Explorando as consequências:**\n> \n> Você mencionou o Holocausto, a Guerra Fria e a criação da ONU. Podemos adicionar:\n> \n> *   **Os Julgamentos de Nuremberg:** Os líderes nazistas foram julgados por crimes de guerra e crimes contra a humanidade.\n> *   **A Declaração Universal dos Direitos Humanos:** Adotada pela ONU em 1948, estabeleceu os direitos básicos que todos os seres humanos devem ter.\n> *   **A divisão da Alemanha:** A Alemanha foi dividida em quatro zonas de ocupação (americana, britânica, francesa e soviética), o que levou à criação da Alemanha Ocidental e da Alemanha Oriental.\n> \n> Para deixar o tema ainda mais interessante, que tal falarmos sobre a participação do Brasil na Segunda Guerra Mundial? Ou sobre a vida das pessoas durante o conflito?\n"
          },
          "metadata": {}
        }
      ]
    }
  ]
}